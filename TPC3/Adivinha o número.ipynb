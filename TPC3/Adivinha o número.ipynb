{
 "cells": [
  {
   "cell_type": "code",
   "execution_count": 1,
   "metadata": {},
   "outputs": [
    {
     "name": "stdout",
     "output_type": "stream",
     "text": [
      "O número que pensei é Maior do que 5.\n"
     ]
    },
    {
     "ename": "ValueError",
     "evalue": "invalid literal for int() with base 10: ''",
     "output_type": "error",
     "traceback": [
      "\u001b[1;31m---------------------------------------------------------------------------\u001b[0m",
      "\u001b[1;31mValueError\u001b[0m                                Traceback (most recent call last)",
      "\u001b[1;32mUntitled-1.ipynb Cell 1\u001b[0m line \u001b[0;36m1\n\u001b[0;32m     <a href='vscode-notebook-cell:Untitled-1.ipynb?jupyter-notebook#W0sdW50aXRsZWQ%3D?line=14'>15</a>\u001b[0m \u001b[39mif\u001b[39;00m guess \u001b[39m<\u001b[39m numadiv: \n\u001b[0;32m     <a href='vscode-notebook-cell:Untitled-1.ipynb?jupyter-notebook#W0sdW50aXRsZWQ%3D?line=15'>16</a>\u001b[0m   \u001b[39mprint\u001b[39m(\u001b[39m\"\u001b[39m\u001b[39mO número que pensei é Maior do que \u001b[39m\u001b[39m\"\u001b[39m \u001b[39m+\u001b[39m \u001b[39mstr\u001b[39m(guess) \u001b[39m+\u001b[39m \u001b[39m\"\u001b[39m\u001b[39m.\u001b[39m\u001b[39m\"\u001b[39m) \n\u001b[1;32m---> <a href='vscode-notebook-cell:Untitled-1.ipynb?jupyter-notebook#W0sdW50aXRsZWQ%3D?line=16'>17</a>\u001b[0m   guess \u001b[39m=\u001b[39m \u001b[39mint\u001b[39;49m(\u001b[39minput\u001b[39;49m(\u001b[39m\"\u001b[39;49m\u001b[39mO número a adivinhar é? \u001b[39;49m\u001b[39m\"\u001b[39;49m))\n\u001b[0;32m     <a href='vscode-notebook-cell:Untitled-1.ipynb?jupyter-notebook#W0sdW50aXRsZWQ%3D?line=17'>18</a>\u001b[0m   contador \u001b[39m=\u001b[39m contador \u001b[39m+\u001b[39m \u001b[39m1\u001b[39m \n\u001b[0;32m     <a href='vscode-notebook-cell:Untitled-1.ipynb?jupyter-notebook#W0sdW50aXRsZWQ%3D?line=18'>19</a>\u001b[0m \u001b[39melif\u001b[39;00m guess \u001b[39m>\u001b[39m numadiv: \n",
      "\u001b[1;31mValueError\u001b[0m: invalid literal for int() with base 10: ''"
     ]
    }
   ],
   "source": [
    "import random\n",
    "\n",
    "modalidade=input(\"Escolha quem adivinha (Computador/Jogador): \")\n",
    " \n",
    "if modalidade==\"jogador\":\n",
    "    numadiv = random.randint(0,100) \n",
    "    contador = 0 \n",
    "    guess = int(input(\"O número a adivinhar é? \")) \n",
    "\n",
    "    if guess != numadiv: \n",
    "      contador = contador + 1\n",
    "\n",
    "    while guess != numadiv: \n",
    "      \n",
    "      if guess < numadiv: \n",
    "        print(\"O número que pensei é Maior do que \" + str(guess) + \".\") \n",
    "        guess = int(input(\"O número a adivinhar é? \"))\n",
    "        contador = contador + 1 \n",
    "      elif guess > numadiv: \n",
    "        print(\"O número que pensei é Menor do que \"+ str(guess) + \".\")\n",
    "        guess = int(input(\"O número a adivinhar é? \"))\n",
    "        contador = contador + 1 \n",
    "\n",
    "    print(\"Acertou!!\")\n",
    "    print(\"Conseguiu acertar em \" + str(contador) + \" tentativas .\") \n",
    "\n",
    "else:   \n",
    "    lower=0\n",
    "    upper=100\n",
    "    dif=upper-lower\n",
    "    resposta=resposta=lower+dif/2\n",
    "                \n",
    "    ans=input(\"O seu número é {}? sim/maior/menor\".format(resposta))\n",
    "    N=1\n",
    "\n",
    "    while ans!=\"sim\":\n",
    "    \n",
    "        if ans==\"maior\":\n",
    "            lower=resposta\n",
    "            dif=upper-lower\n",
    "        \n",
    "            if dif%2==0:\n",
    "                resposta=lower+dif/2\n",
    "\n",
    "            elif dif%2>0:\n",
    "                resposta=lower+dif/2+0.5\n",
    "        \n",
    "            ans=input(\"O seu número é {}? sim/maior/menor\".format(resposta))\n",
    "            N=N+1\n",
    "\n",
    "        if ans==\"menor\":\n",
    "            upper=resposta\n",
    "            dif=upper-lower\n",
    "                \n",
    "            if dif%2==0:\n",
    "                resposta=lower+dif/2\n",
    "                \n",
    "            elif dif%2>0:\n",
    "                resposta=lower+dif/2+0.5\n",
    "\n",
    "            \n",
    "            ans=input(\"O seu número é {}? sim/maior/menor\".format(resposta))\n",
    "            N=N+1\n",
    "\n",
    "    print(\"{} tentativas.\".format(N))"
   ]
  }
 ],
 "metadata": {
  "kernelspec": {
   "display_name": "Python 3",
   "language": "python",
   "name": "python3"
  },
  "language_info": {
   "codemirror_mode": {
    "name": "ipython",
    "version": 3
   },
   "file_extension": ".py",
   "mimetype": "text/x-python",
   "name": "python",
   "nbconvert_exporter": "python",
   "pygments_lexer": "ipython3",
   "version": "3.11.5"
  },
  "orig_nbformat": 4
 },
 "nbformat": 4,
 "nbformat_minor": 2
}
